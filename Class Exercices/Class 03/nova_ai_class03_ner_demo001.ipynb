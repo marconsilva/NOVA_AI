{
 "cells": [
  {
   "cell_type": "code",
   "execution_count": 23,
   "metadata": {},
   "outputs": [],
   "source": [
    "from azure.ai.textanalytics import TextAnalyticsClient\n",
    "from azure.core.credentials import AzureKeyCredential\n",
    "\n",
    "key = \"AZURE_TEXT_ANALYTICS_KEY\"\n",
    "endpoint = \"AZURE_TEXT_ANALYTICS_ENDPOINT\""
   ]
  },
  {
   "cell_type": "code",
   "execution_count": 24,
   "metadata": {},
   "outputs": [],
   "source": [
    "def entity_recognition_example(client):\n",
    "    documents = [\n",
    "        \"I had a wonderful trip to Seattle last week.\",\n",
    "        \"The restaurant was great, but the service was awful.\",\n",
    "    ]\n",
    "    response = client.recognize_entities(documents=documents)\n",
    "    i = 0\n",
    "    for frase in response:\n",
    "        print(f\"Named Entities document {i}:{documents[i]}\")\n",
    "        i = i+1\n",
    "        for entity in frase.entities:\n",
    "            print(f\"\\tText: {entity.text},\\tCategory: {entity.category},\\tSub-Category: {entity.subcategory}\")\n",
    "            print(f\"\\t\\tScore: {entity.confidence_score:.2f},\\tLength: {entity.length},\\tOffset: {entity.offset}\\n\")\n"
   ]
  },
  {
   "cell_type": "code",
   "execution_count": 25,
   "metadata": {},
   "outputs": [],
   "source": [
    "def main():\n",
    "    credential = AzureKeyCredential(key)\n",
    "    client = TextAnalyticsClient(endpoint=endpoint, credential=credential)\n",
    "    entity_recognition_example(client)"
   ]
  },
  {
   "cell_type": "code",
   "execution_count": 26,
   "metadata": {},
   "outputs": [
    {
     "name": "stdout",
     "output_type": "stream",
     "text": [
      "Named Entities document 0:I had a wonderful trip to Seattle last week.\n",
      "\tText: trip,\tCategory: Event,\tSub-Category: None\n",
      "\t\tScore: 0.74,\tLength: 4,\tOffset: 18\n",
      "\n",
      "\tText: Seattle,\tCategory: Location,\tSub-Category: GPE\n",
      "\t\tScore: 1.00,\tLength: 7,\tOffset: 26\n",
      "\n",
      "\tText: last week,\tCategory: DateTime,\tSub-Category: DateRange\n",
      "\t\tScore: 0.80,\tLength: 9,\tOffset: 34\n",
      "\n",
      "Named Entities document 1:The restaurant was great, but the service was awful.\n",
      "\tText: restaurant,\tCategory: Location,\tSub-Category: Structural\n",
      "\t\tScore: 0.96,\tLength: 10,\tOffset: 4\n",
      "\n"
     ]
    }
   ],
   "source": [
    "main()"
   ]
  }
 ],
 "metadata": {
  "kernelspec": {
   "display_name": "Python 3",
   "language": "python",
   "name": "python3"
  },
  "language_info": {
   "codemirror_mode": {
    "name": "ipython",
    "version": 3
   },
   "file_extension": ".py",
   "mimetype": "text/x-python",
   "name": "python",
   "nbconvert_exporter": "python",
   "pygments_lexer": "ipython3",
   "version": "3.10.11"
  },
  "orig_nbformat": 4
 },
 "nbformat": 4,
 "nbformat_minor": 2
}
