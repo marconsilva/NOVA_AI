{
 "cells": [
  {
   "cell_type": "code",
   "execution_count": 15,
   "metadata": {},
   "outputs": [],
   "source": [
    "from azure.core.credentials import AzureKeyCredential\n",
    "from azure.ai.language.questionanswering import QuestionAnsweringClient\n",
    "from azure.ai.language.questionanswering import models as qna\n",
    "\n",
    "language_key = \"paste-your-key-here\"\n",
    "language_endpoint = \"paste-your-endpoint-here\"\n"
   ]
  },
  {
   "cell_type": "code",
   "execution_count": 16,
   "metadata": {},
   "outputs": [],
   "source": [
    "# Authenticate the client using your key and endpoint \n",
    "def authenticate_client():\n",
    "    ta_credential = AzureKeyCredential(language_key)\n",
    "    qna_client = QuestionAnsweringClient(\n",
    "            endpoint=language_endpoint, \n",
    "            credential=ta_credential)\n",
    "    return qna_client"
   ]
  },
  {
   "cell_type": "code",
   "execution_count": 17,
   "metadata": {},
   "outputs": [],
   "source": [
    "client = authenticate_client() "
   ]
  },
  {
   "cell_type": "code",
   "execution_count": 18,
   "metadata": {},
   "outputs": [],
   "source": [
    "def main():\n",
    "    with client:\n",
    "        question=\"How long does it takes to charge a surface?\"\n",
    "        input = qna.AnswersFromTextOptions(\n",
    "            question=question,\n",
    "            text_documents=[\n",
    "                \"Power and charging. It takes two to four hours to charge the Surface Pro 4 battery fully from an empty state. \" +\n",
    "                \"It can take longer if you're using your Surface for power-intensive activities like gaming or video streaming while you're charging it.\",\n",
    "                \"You can use the USB port on your Surface Pro 4 power supply to charge other devices, like a phone, while your Surface charges. \" +\n",
    "                \"The USB port on the power supply is only for charging, not for data transfer. If you want to use a USB device, plug it into the USB port on your Surface.\",\n",
    "            ]\n",
    "        )\n",
    "\n",
    "\n",
    "        output = client.get_answers_from_text(input)\n",
    "\n",
    "    best_answer = [a for a in output.answers if a.confidence > 0.9][0]\n",
    "    print(u\"Q: {}\".format(input.question))\n",
    "    print(u\"A: {}\".format(best_answer.answer))\n",
    "    print(\"Confidence Score: {}\".format(output.answers[0].confidence))"
   ]
  },
  {
   "cell_type": "code",
   "execution_count": 19,
   "metadata": {},
   "outputs": [
    {
     "name": "stdout",
     "output_type": "stream",
     "text": [
      "Q: How long does it takes to charge a surface?\n",
      "A: Power and charging. It takes two to four hours to charge the Surface Pro 4 battery fully from an empty state. It can take longer if you're using your Surface for power-intensive activities like gaming or video streaming while you're charging it.\n",
      "Confidence Score: 0.9129485487937927\n"
     ]
    }
   ],
   "source": [
    "main()"
   ]
  }
 ],
 "metadata": {
  "kernelspec": {
   "display_name": "Python 3",
   "language": "python",
   "name": "python3"
  },
  "language_info": {
   "codemirror_mode": {
    "name": "ipython",
    "version": 3
   },
   "file_extension": ".py",
   "mimetype": "text/x-python",
   "name": "python",
   "nbconvert_exporter": "python",
   "pygments_lexer": "ipython3",
   "version": "3.10.11"
  },
  "orig_nbformat": 4
 },
 "nbformat": 4,
 "nbformat_minor": 2
}
