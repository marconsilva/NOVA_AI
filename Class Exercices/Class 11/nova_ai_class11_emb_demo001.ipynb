{
 "cells": [
  {
   "cell_type": "code",
   "execution_count": null,
   "metadata": {},
   "outputs": [],
   "source": [
    "import openai\n",
    "\n",
    "openai.api_type = \"azure\"\n",
    "openai.api_key = \"AZURE_OPENAI_API_KEY\"   #\"AZURE_OPENAI_API_KEY\"\n",
    "openai.api_base = \"AZURE_OPENAI_ENDPOINT\" #\"AZURE_OPENAI_ENDPOINT\"\n",
    "openai.api_version = \"2023-05-15\"\n",
    "\n",
    "response = openai.Embedding.create(\n",
    "    input=\"The quick brown fox jumps over the lazy dog. The five boxing wizards jump quickly. How vexingly quick daft zebras jump! Sphinx of black quartz, judge my vow. The jay, pig, fox, zebra and my wolves quack! Blowzy red vixens fight for a quick jump. Crazy Frederick bought many very exquisite opal jewels. The quick brown fox jumps over the lazy dog. Pack my box with five dozen liquor jugs. The quick onyx goblin jumps over the lazy dwarf. Waltz, bad nymph, for quick jigs vex.\",\n",
    "    engine=\"text-embedding-ada-002\"\n",
    ")\n",
    "embeddings = response['data'][0]['embedding']\n",
    "print(embeddings)"
   ]
  }
 ],
 "metadata": {
  "kernelspec": {
   "display_name": "Python 3",
   "language": "python",
   "name": "python3"
  },
  "language_info": {
   "codemirror_mode": {
    "name": "ipython",
    "version": 3
   },
   "file_extension": ".py",
   "mimetype": "text/x-python",
   "name": "python",
   "nbconvert_exporter": "python",
   "pygments_lexer": "ipython3",
   "version": "3.10.11"
  }
 },
 "nbformat": 4,
 "nbformat_minor": 2
}
